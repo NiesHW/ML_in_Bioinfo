{
 "cells": [
  {
   "cell_type": "markdown",
   "metadata": {},
   "source": [
    "Transfer Learning"
   ]
  },
  {
   "cell_type": "code",
   "execution_count": 2,
   "metadata": {},
   "outputs": [
    {
     "name": "stdout",
     "output_type": "stream",
     "text": [
      "Epoch 1/10\n",
      "422/422 [==============================] - 992s 2s/step - loss: 0.4198 - accuracy: 0.8871 - val_loss: 0.1641 - val_accuracy: 0.9550\n",
      "Epoch 2/10\n",
      "422/422 [==============================] - 875s 2s/step - loss: 0.1482 - accuracy: 0.9565 - val_loss: 0.1024 - val_accuracy: 0.9712\n",
      "Epoch 3/10\n",
      "422/422 [==============================] - 888s 2s/step - loss: 0.1112 - accuracy: 0.9664 - val_loss: 0.0947 - val_accuracy: 0.9700\n",
      "Epoch 4/10\n",
      "422/422 [==============================] - 701s 2s/step - loss: 0.0951 - accuracy: 0.9707 - val_loss: 0.0752 - val_accuracy: 0.9775\n",
      "Epoch 5/10\n",
      "422/422 [==============================] - 699s 2s/step - loss: 0.0845 - accuracy: 0.9739 - val_loss: 0.0700 - val_accuracy: 0.9795\n",
      "Epoch 6/10\n",
      "422/422 [==============================] - 690s 2s/step - loss: 0.0764 - accuracy: 0.9760 - val_loss: 0.0695 - val_accuracy: 0.9780\n",
      "Epoch 7/10\n",
      "422/422 [==============================] - 694s 2s/step - loss: 0.0707 - accuracy: 0.9781 - val_loss: 0.0676 - val_accuracy: 0.9800\n",
      "Epoch 8/10\n",
      "422/422 [==============================] - 691s 2s/step - loss: 0.0664 - accuracy: 0.9791 - val_loss: 0.0590 - val_accuracy: 0.9807\n",
      "Epoch 9/10\n",
      "422/422 [==============================] - 697s 2s/step - loss: 0.0611 - accuracy: 0.9809 - val_loss: 0.0571 - val_accuracy: 0.9810\n",
      "Epoch 10/10\n",
      "422/422 [==============================] - 694s 2s/step - loss: 0.0601 - accuracy: 0.9815 - val_loss: 0.0620 - val_accuracy: 0.9795\n",
      "313/313 [==============================] - 120s 384ms/step - loss: 0.0789 - accuracy: 0.9759\n",
      "Test accuracy: 0.9758999943733215\n"
     ]
    }
   ],
   "source": [
    "import tensorflow as tf\n",
    "from tensorflow.keras.datasets import mnist\n",
    "from tensorflow.keras.applications import VGG16\n",
    "from tensorflow.keras.models import Sequential\n",
    "from tensorflow.keras.layers import Flatten, Dense, Reshape\n",
    "from tensorflow.keras.optimizers import Adam\n",
    "from tensorflow.keras.utils import to_categorical\n",
    "import numpy as np\n",
    "\n",
    "# Load MNIST dataset\n",
    "(x_train, y_train), (x_test, y_test) = mnist.load_data()\n",
    "\n",
    "# Preprocess the data\n",
    "x_train = np.expand_dims(x_train, axis=-1)  # Add channel dimension\n",
    "x_train = np.repeat(x_train, 3, axis=-1)  # Convert to RGB (duplicate grayscale channel)\n",
    "x_train = tf.image.resize(x_train, (48, 48))  # Resize images to (48, 48) for VGG16\n",
    "x_train = x_train / 255.0  # Normalize pixel values\n",
    "\n",
    "x_test = np.expand_dims(x_test, axis=-1)\n",
    "x_test = np.repeat(x_test, 3, axis=-1)\n",
    "x_test = tf.image.resize(x_test, (48, 48))\n",
    "x_test = x_test / 255.0\n",
    "\n",
    "y_train = to_categorical(y_train, num_classes=10)\n",
    "y_test = to_categorical(y_test, num_classes=10)\n",
    "\n",
    "# Load pre-trained VGG16 model (excluding top layers)\n",
    "base_model = VGG16(weights='imagenet', include_top=False, input_shape=(48, 48, 3))\n",
    "\n",
    "# Modify the VGG16 model\n",
    "model = Sequential([\n",
    "    base_model,\n",
    "    Flatten(),\n",
    "    Dense(256, activation='relu'),\n",
    "    Dense(10, activation='softmax')\n",
    "])\n",
    "\n",
    "# Freeze the pre-trained layers\n",
    "for layer in base_model.layers:\n",
    "    layer.trainable = False\n",
    "\n",
    "# Compile the model\n",
    "model.compile(optimizer=Adam(learning_rate=0.001),\n",
    "              loss='categorical_crossentropy',\n",
    "              metrics=['accuracy'])\n",
    "\n",
    "# Train the model\n",
    "model.fit(x_train, y_train, batch_size=128, epochs=10, validation_split=0.1)\n",
    "\n",
    "# Evaluate the model\n",
    "loss, accuracy = model.evaluate(x_test, y_test)\n",
    "print(f'Test accuracy: {accuracy}')\n"
   ]
  },
  {
   "cell_type": "markdown",
   "metadata": {},
   "source": [
    "992\n",
    "875\n",
    "888\n",
    "701\n",
    "699\n",
    "690\n",
    "694\n",
    "691\n",
    "697\n",
    "694\n",
    "120\n",
    "\n",
    "total = 7741 seconds\n",
    "\n",
    "(2.150277778 hours)\n"
   ]
  }
 ],
 "metadata": {
  "kernelspec": {
   "display_name": "Python 3",
   "language": "python",
   "name": "python3"
  },
  "language_info": {
   "codemirror_mode": {
    "name": "ipython",
    "version": 3
   },
   "file_extension": ".py",
   "mimetype": "text/x-python",
   "name": "python",
   "nbconvert_exporter": "python",
   "pygments_lexer": "ipython3",
   "version": "3.11.6"
  }
 },
 "nbformat": 4,
 "nbformat_minor": 2
}
